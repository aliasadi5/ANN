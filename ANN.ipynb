{
 "cells": [
  {
   "cell_type": "code",
   "execution_count": 17,
   "metadata": {},
   "outputs": [],
   "source": [
    "import torch\n",
    "from torch.nn import Module\n",
    "import torch.nn as nn\n",
    "import numpy as np\n",
    "import pandas as pd\n",
    "import torch.nn.functional as F\n",
    "import matplotlib.pyplot as plt\n",
    "from sklearn.model_selection import train_test_split\n",
    "from sklearn.metrics import classification_report\n",
    "from sklearn.metrics import classification_report, confusion_matrix\n",
    "import seaborn as sns\n",
    "from sklearn.metrics import confusion_matrix"
   ]
  },
  {
   "cell_type": "code",
   "execution_count": 18,
   "metadata": {},
   "outputs": [],
   "source": [
    "file = 'Preprocessed data/processed_results.csv'\n",
    "my_df = pd.read_csv(file)\n"
   ]
  },
  {
   "cell_type": "code",
   "execution_count": 22,
   "metadata": {},
   "outputs": [
    {
     "ename": "NameError",
     "evalue": "name 'SimpleANN' is not defined",
     "output_type": "error",
     "traceback": [
      "\u001b[0;31m---------------------------------------------------------------------------\u001b[0m",
      "\u001b[0;31mNameError\u001b[0m                                 Traceback (most recent call last)",
      "Cell \u001b[0;32mIn[22], line 16\u001b[0m\n\u001b[1;32m     14\u001b[0m file \u001b[38;5;241m=\u001b[39m \u001b[38;5;124m'\u001b[39m\u001b[38;5;124mPreprocessed data/processed_results.csv\u001b[39m\u001b[38;5;124m'\u001b[39m\n\u001b[1;32m     15\u001b[0m my_df \u001b[38;5;241m=\u001b[39m pd\u001b[38;5;241m.\u001b[39mread_csv(file)\n\u001b[0;32m---> 16\u001b[0m model \u001b[38;5;241m=\u001b[39m \u001b[43mSimpleANN\u001b[49m(input_size\u001b[38;5;241m=\u001b[39m\u001b[38;5;241m5\u001b[39m, hidden_size\u001b[38;5;241m=\u001b[39m\u001b[38;5;241m2\u001b[39m, output_size\u001b[38;5;241m=\u001b[39m\u001b[38;5;241m2\u001b[39m)\n\u001b[1;32m     17\u001b[0m model\u001b[38;5;241m.\u001b[39mload_state_dict(torch\u001b[38;5;241m.\u001b[39mload(\u001b[38;5;124m'\u001b[39m\u001b[38;5;124m/home/ali/Transfered/New folder/E/python pro/Training dataset.path\u001b[39m\u001b[38;5;124m'\u001b[39m))\n\u001b[1;32m     18\u001b[0m model \u001b[38;5;241m=\u001b[39m model\u001b[38;5;241m.\u001b[39mto(device)\n",
      "\u001b[0;31mNameError\u001b[0m: name 'SimpleANN' is not defined"
     ]
    }
   ],
   "source": [
    "\n",
    "file = 'Preprocessed data/processed_results.csv'\n",
    "my_df = pd.read_csv(file)\n",
    "# 2. جدا کردن ویژگی‌ها\n",
    "features = my_df[['Max','Min','Max time','Min time','Period']].values  # جایگزین با نام ویژگی‌های خود\n",
    "\n",
    "# 3. تبدیل به Tensor\n",
    "input_data = torch.tensor(features, dtype=torch.float32)\n",
    "\n",
    "# 4. لود مدل\n",
    "device = torch.device(\"cuda\" if torch.cuda.is_available() else \"cpu\")\n",
    "torch.manual_seed(41)\n",
    "model = Model()\n",
    "\n",
    "file = 'Preprocessed data/processed_results.csv'\n",
    "my_df = pd.read_csv(file)\n",
    "model = SimpleANN(input_size=5, hidden_size=2, output_size=2)\n",
    "model.load_state_dict(torch.load('/home/ali/Transfered/New folder/E/python pro/Training dataset.path'))\n",
    "model = model.to(device)\n",
    "input_data = input_data.to(device)\n",
    "model.eval()\n",
    "\n",
    "# 5. پیش‌بینی\n",
    "with torch.no_grad():\n",
    "    predictions = model(input_data)\n",
    "\n",
    "# 6. پردازش نتایج\n",
    "predicted_classes = torch.argmax(predictions, dim=1)\n",
    "\n",
    "# 7. نمایش نتایج\n",
    "print(f'Predicted classes: {predicted_classes}')"
   ]
  },
  {
   "cell_type": "code",
   "execution_count": 13,
   "metadata": {},
   "outputs": [
    {
     "name": "stdout",
     "output_type": "stream",
     "text": [
      "           Max       Min  Max time  Min time    Period  Output\n",
      "0     0.712821  0.000000  0.724138  0.275862  0.714286       1\n",
      "1     0.102564  0.047368  0.448276  0.310345  0.714286       1\n",
      "2     0.082051  0.052632  0.379310  0.551724  0.214286       0\n",
      "3     0.082051  0.052632  0.310345  0.172414  0.214286       0\n",
      "4     0.774359  0.052632  0.517241  0.448276  0.321429       1\n",
      "...        ...       ...       ...       ...       ...     ...\n",
      "3731  0.943590  1.000000  0.448276  0.482759  0.607143       1\n",
      "3732  0.964103  1.000000  0.379310  0.000000  0.678571       1\n",
      "3733  0.307692  1.000000  0.586207  0.000000  0.750000       1\n",
      "3734  0.307692  1.000000  0.379310  0.137931  0.821429       1\n",
      "3735  0.964103  1.000000  0.206897  0.275862  1.000000       1\n",
      "\n",
      "[3736 rows x 6 columns]\n"
     ]
    }
   ],
   "source": [
    "print(my_df)"
   ]
  },
  {
   "cell_type": "code",
   "execution_count": 4,
   "metadata": {},
   "outputs": [],
   "source": [
    "#create a model class that inherits nn.modules\n",
    "class Model(nn.Module):\n",
    "    #Input features(The number of object's feature)\n",
    "    #First hidden layer(The number of neurons in first layer)\n",
    "    #Second hidden layer(The number of neurons in second layer)\n",
    "    #Output(The number of classes in which depends on objects)\n",
    "    def __init__(self, in_features = 5, hidden1 = 12, hidden2 = 12, out_features = 2):\n",
    "        #To instantiate our nn.Module\n",
    "        super().__init__()\n",
    "        #To conect all neurons with eachother\n",
    "        self.fc1 = nn.Linear(in_features,hidden1)\n",
    "        self.fc2 = nn.Linear(hidden1,hidden2)\n",
    "        self.out = nn.Linear(hidden2,out_features)\n",
    "        #A function which moves everthing forward\n",
    "    def forward(self,x):\n",
    "        #relu:>Rectified linear unit:>It is defined as h = max(0, a) where a is any real number.\n",
    "        #If a is less than or equal to 0, the function returns 0, otherwise, it returns a\n",
    "        #This function moves data from input to first hidden layer and then second and then output\n",
    "        x = F.relu(self.fc1(x))\n",
    "        x = F.relu(self.fc2(x))\n",
    "        x = self.out(x) \n",
    "        return x"
   ]
  },
  {
   "cell_type": "code",
   "execution_count": 6,
   "metadata": {},
   "outputs": [],
   "source": [
    "#Pick a manual seed for randomization\n",
    "#Random number seeking\n",
    "torch.manual_seed(41)\n",
    "model = Model()\n",
    "\n",
    "file = 'Preprocessed data/processed_results.csv'\n",
    "my_df = pd.read_csv(file)"
   ]
  },
  {
   "cell_type": "code",
   "execution_count": 16,
   "metadata": {},
   "outputs": [
    {
     "name": "stdout",
     "output_type": "stream",
     "text": [
      "           Max       Min  Max time  Min time    Period  Output\n",
      "0     0.712821  0.000000  0.724138  0.275862  0.714286       1\n",
      "1     0.102564  0.047368  0.448276  0.310345  0.714286       1\n",
      "2     0.082051  0.052632  0.379310  0.551724  0.214286       0\n",
      "3     0.082051  0.052632  0.310345  0.172414  0.214286       0\n",
      "4     0.774359  0.052632  0.517241  0.448276  0.321429       1\n",
      "...        ...       ...       ...       ...       ...     ...\n",
      "3731  0.943590  1.000000  0.448276  0.482759  0.607143       1\n",
      "3732  0.964103  1.000000  0.379310  0.000000  0.678571       1\n",
      "3733  0.307692  1.000000  0.586207  0.000000  0.750000       1\n",
      "3734  0.307692  1.000000  0.379310  0.137931  0.821429       1\n",
      "3735  0.964103  1.000000  0.206897  0.275862  1.000000       1\n",
      "\n",
      "[3736 rows x 6 columns]\n"
     ]
    }
   ],
   "source": [
    "print(my_df)"
   ]
  },
  {
   "cell_type": "code",
   "execution_count": 17,
   "metadata": {},
   "outputs": [
    {
     "data": {
      "text/plain": [
       "Model(\n",
       "  (fc1): Linear(in_features=5, out_features=12, bias=True)\n",
       "  (fc2): Linear(in_features=12, out_features=12, bias=True)\n",
       "  (out): Linear(in_features=12, out_features=2, bias=True)\n",
       ")"
      ]
     },
     "execution_count": 17,
     "metadata": {},
     "output_type": "execute_result"
    }
   ],
   "source": [
    "model"
   ]
  },
  {
   "cell_type": "code",
   "execution_count": 7,
   "metadata": {},
   "outputs": [],
   "source": [
    "#Train Test Split. set x,y\n",
    "x = my_df.drop('Output',axis=1)\n",
    "y = my_df['Output']\n",
    "#Convert these numpy arrays\n",
    "x = x.values\n",
    "y = y.values\n",
    "\n",
    "#Running train test split\n",
    "x_train , x_test , y_train , y_test = train_test_split(x , y , test_size=0.3 , random_state = 45)# 70% is train and 30% is test\n",
    "\n",
    "#Convert x features to float tensors\n",
    "x_train = torch.FloatTensor(x_train)\n",
    "x_test = torch.FloatTensor(x_test)\n",
    "\n",
    "#Convert y features to tensors long\n",
    "y_train = torch.LongTensor(y_train)\n",
    "y_test = torch.LongTensor(y_test)\n",
    "\n",
    "#Set criterion of model to measure the error, how far off the predictions are from data\n",
    "criterion = nn.CrossEntropyLoss()\n",
    "\n",
    "#Choose an Adam optimizer , learning rate = if the error doesn't go down after a bunch of iterations(epochs), learning rate will decrease\n",
    "optimizer = torch.optim.Adam(model.parameters(),lr=0.008)\n"
   ]
  },
  {
   "cell_type": "code",
   "execution_count": 8,
   "metadata": {},
   "outputs": [
    {
     "name": "stdout",
     "output_type": "stream",
     "text": [
      "'Epoch: 0 and loss: 0.679471492767334\n",
      "'Epoch: 10 and loss: 0.5508705973625183\n",
      "'Epoch: 20 and loss: 0.5469937920570374\n",
      "'Epoch: 30 and loss: 0.5356442928314209\n",
      "'Epoch: 40 and loss: 0.5253519415855408\n",
      "'Epoch: 50 and loss: 0.5152255892753601\n",
      "'Epoch: 60 and loss: 0.5067404508590698\n",
      "'Epoch: 70 and loss: 0.5009241104125977\n",
      "'Epoch: 80 and loss: 0.49531427025794983\n",
      "'Epoch: 90 and loss: 0.48888012766838074\n",
      "'Epoch: 100 and loss: 0.47853171825408936\n",
      "'Epoch: 110 and loss: 0.46616098284721375\n",
      "'Epoch: 120 and loss: 0.4500686228275299\n",
      "'Epoch: 130 and loss: 0.428916335105896\n",
      "'Epoch: 140 and loss: 0.4008401036262512\n",
      "'Epoch: 150 and loss: 0.36192357540130615\n",
      "'Epoch: 160 and loss: 0.319029837846756\n",
      "'Epoch: 170 and loss: 0.28375422954559326\n",
      "'Epoch: 180 and loss: 0.2556152641773224\n",
      "'Epoch: 190 and loss: 0.23555395007133484\n",
      "'Epoch: 200 and loss: 0.22219707071781158\n",
      "'Epoch: 210 and loss: 0.214393749833107\n",
      "'Epoch: 220 and loss: 0.20919010043144226\n",
      "'Epoch: 230 and loss: 0.20602947473526\n",
      "'Epoch: 240 and loss: 0.20428065955638885\n",
      "'Epoch: 250 and loss: 0.20225080847740173\n",
      "'Epoch: 260 and loss: 0.20124194025993347\n",
      "'Epoch: 270 and loss: 0.20045611262321472\n",
      "'Epoch: 280 and loss: 0.20004460215568542\n",
      "'Epoch: 290 and loss: 0.20003801584243774\n",
      "'Epoch: 300 and loss: 0.19929978251457214\n",
      "'Epoch: 310 and loss: 0.19877037405967712\n",
      "'Epoch: 320 and loss: 0.1981973946094513\n",
      "'Epoch: 330 and loss: 0.1979551464319229\n",
      "'Epoch: 340 and loss: 0.1977829486131668\n",
      "'Epoch: 350 and loss: 0.19832536578178406\n",
      "'Epoch: 360 and loss: 0.19715407490730286\n",
      "'Epoch: 370 and loss: 0.19702699780464172\n",
      "'Epoch: 380 and loss: 0.19685697555541992\n",
      "'Epoch: 390 and loss: 0.19673386216163635\n",
      "'Epoch: 400 and loss: 0.19709724187850952\n",
      "'Epoch: 410 and loss: 0.19522684812545776\n",
      "'Epoch: 420 and loss: 0.1942748874425888\n",
      "'Epoch: 430 and loss: 0.20024076104164124\n",
      "'Epoch: 440 and loss: 0.19520977139472961\n",
      "'Epoch: 450 and loss: 0.18946507573127747\n",
      "'Epoch: 460 and loss: 0.18972830474376678\n",
      "'Epoch: 470 and loss: 0.18717746436595917\n",
      "'Epoch: 480 and loss: 0.18551482260227203\n",
      "'Epoch: 490 and loss: 0.18449626863002777\n",
      "'Epoch: 500 and loss: 0.1831768900156021\n",
      "'Epoch: 510 and loss: 0.18225562572479248\n",
      "'Epoch: 520 and loss: 0.18147745728492737\n",
      "'Epoch: 530 and loss: 0.1809273362159729\n",
      "'Epoch: 540 and loss: 0.1812550276517868\n",
      "'Epoch: 550 and loss: 0.1802893728017807\n",
      "'Epoch: 560 and loss: 0.17943647503852844\n",
      "'Epoch: 570 and loss: 0.17851495742797852\n",
      "'Epoch: 580 and loss: 0.17852400243282318\n",
      "'Epoch: 590 and loss: 0.1780514419078827\n",
      "'Epoch: 600 and loss: 0.17795664072036743\n",
      "'Epoch: 610 and loss: 0.17680364847183228\n",
      "'Epoch: 620 and loss: 0.17901653051376343\n",
      "'Epoch: 630 and loss: 0.17827436327934265\n",
      "'Epoch: 640 and loss: 0.17709848284721375\n",
      "'Epoch: 650 and loss: 0.17598584294319153\n",
      "'Epoch: 660 and loss: 0.1757500320672989\n",
      "'Epoch: 670 and loss: 0.17553174495697021\n",
      "'Epoch: 680 and loss: 0.17534597218036652\n",
      "'Epoch: 690 and loss: 0.1751628816127777\n",
      "'Epoch: 700 and loss: 0.1750144213438034\n",
      "'Epoch: 710 and loss: 0.17513532936573029\n",
      "'Epoch: 720 and loss: 0.17568567395210266\n",
      "'Epoch: 730 and loss: 0.17466849088668823\n",
      "'Epoch: 740 and loss: 0.17538872361183167\n",
      "'Epoch: 750 and loss: 0.1746075451374054\n",
      "'Epoch: 760 and loss: 0.17431116104125977\n",
      "'Epoch: 770 and loss: 0.17482176423072815\n",
      "'Epoch: 780 and loss: 0.1753413826227188\n",
      "'Epoch: 790 and loss: 0.17410556972026825\n",
      "'Epoch: 800 and loss: 0.17421193420886993\n",
      "'Epoch: 810 and loss: 0.174667090177536\n",
      "'Epoch: 820 and loss: 0.1737961322069168\n",
      "'Epoch: 830 and loss: 0.17409363389015198\n",
      "'Epoch: 840 and loss: 0.17369773983955383\n",
      "'Epoch: 850 and loss: 0.17446617782115936\n",
      "'Epoch: 860 and loss: 0.17379139363765717\n",
      "'Epoch: 870 and loss: 0.173685684800148\n",
      "'Epoch: 880 and loss: 0.17344820499420166\n",
      "'Epoch: 890 and loss: 0.17428366839885712\n",
      "'Epoch: 900 and loss: 0.17340828478336334\n",
      "'Epoch: 910 and loss: 0.1732107698917389\n",
      "'Epoch: 920 and loss: 0.17355623841285706\n",
      "'Epoch: 930 and loss: 0.17319302260875702\n",
      "'Epoch: 940 and loss: 0.17483140528202057\n",
      "'Epoch: 950 and loss: 0.1738448143005371\n",
      "'Epoch: 960 and loss: 0.17312368750572205\n",
      "'Epoch: 970 and loss: 0.17429256439208984\n",
      "'Epoch: 980 and loss: 0.17304712533950806\n",
      "'Epoch: 990 and loss: 0.1734585016965866\n",
      "'Epoch: 1000 and loss: 0.17295415699481964\n",
      "'Epoch: 1010 and loss: 0.17416541278362274\n",
      "'Epoch: 1020 and loss: 0.17323346436023712\n",
      "'Epoch: 1030 and loss: 0.17277304828166962\n",
      "'Epoch: 1040 and loss: 0.1736389547586441\n",
      "'Epoch: 1050 and loss: 0.17277441918849945\n",
      "'Epoch: 1060 and loss: 0.17375142872333527\n",
      "'Epoch: 1070 and loss: 0.17290852963924408\n",
      "'Epoch: 1080 and loss: 0.17316462099552155\n",
      "'Epoch: 1090 and loss: 0.1727074533700943\n",
      "'Epoch: 1100 and loss: 0.17289631068706512\n",
      "'Epoch: 1110 and loss: 0.17313893139362335\n",
      "'Epoch: 1120 and loss: 0.1730063557624817\n",
      "'Epoch: 1130 and loss: 0.17261695861816406\n",
      "'Epoch: 1140 and loss: 0.17314554750919342\n",
      "'Epoch: 1150 and loss: 0.17255853116512299\n",
      "'Epoch: 1160 and loss: 0.1731967031955719\n",
      "'Epoch: 1170 and loss: 0.1725160777568817\n",
      "'Epoch: 1180 and loss: 0.17336295545101166\n",
      "'Epoch: 1190 and loss: 0.17243897914886475\n",
      "'Epoch: 1200 and loss: 0.17308123409748077\n",
      "'Epoch: 1210 and loss: 0.17240576446056366\n",
      "'Epoch: 1220 and loss: 0.1734468638896942\n",
      "'Epoch: 1230 and loss: 0.17250438034534454\n",
      "'Epoch: 1240 and loss: 0.1730554699897766\n",
      "'Epoch: 1250 and loss: 0.17269472777843475\n",
      "'Epoch: 1260 and loss: 0.17276881635189056\n",
      "'Epoch: 1270 and loss: 0.17264054715633392\n",
      "'Epoch: 1280 and loss: 0.17266224324703217\n",
      "'Epoch: 1290 and loss: 0.1725807636976242\n",
      "'Epoch: 1300 and loss: 0.17268812656402588\n",
      "'Epoch: 1310 and loss: 0.17264415323734283\n",
      "'Epoch: 1320 and loss: 0.1728229522705078\n",
      "'Epoch: 1330 and loss: 0.1726766675710678\n",
      "'Epoch: 1340 and loss: 0.17241808772087097\n",
      "'Epoch: 1350 and loss: 0.1725839376449585\n",
      "'Epoch: 1360 and loss: 0.1724448949098587\n",
      "'Epoch: 1370 and loss: 0.17265409231185913\n",
      "'Epoch: 1380 and loss: 0.17254231870174408\n",
      "'Epoch: 1390 and loss: 0.17267653346061707\n",
      "'Epoch: 1400 and loss: 0.17230595648288727\n",
      "'Epoch: 1410 and loss: 0.173153355717659\n",
      "'Epoch: 1420 and loss: 0.17219512164592743\n",
      "'Epoch: 1430 and loss: 0.17263279855251312\n",
      "'Epoch: 1440 and loss: 0.17218318581581116\n",
      "'Epoch: 1450 and loss: 0.1732117086648941\n",
      "'Epoch: 1460 and loss: 0.17230434715747833\n",
      "'Epoch: 1470 and loss: 0.17242170870304108\n",
      "'Epoch: 1480 and loss: 0.1725219041109085\n",
      "'Epoch: 1490 and loss: 0.17221586406230927\n",
      "'Epoch: 1500 and loss: 0.17274288833141327\n",
      "'Epoch: 1510 and loss: 0.17228004336357117\n",
      "'Epoch: 1520 and loss: 0.172774538397789\n",
      "'Epoch: 1530 and loss: 0.17232410609722137\n",
      "'Epoch: 1540 and loss: 0.17267560958862305\n",
      "'Epoch: 1550 and loss: 0.17229455709457397\n",
      "'Epoch: 1560 and loss: 0.17258509993553162\n",
      "'Epoch: 1570 and loss: 0.17221416532993317\n",
      "'Epoch: 1580 and loss: 0.17294219136238098\n",
      "'Epoch: 1590 and loss: 0.17207415401935577\n",
      "'Epoch: 1600 and loss: 0.17288954555988312\n",
      "'Epoch: 1610 and loss: 0.17268751561641693\n",
      "'Epoch: 1620 and loss: 0.17212055623531342\n",
      "'Epoch: 1630 and loss: 0.17269267141819\n",
      "'Epoch: 1640 and loss: 0.17212866246700287\n",
      "'Epoch: 1650 and loss: 0.17261414229869843\n",
      "'Epoch: 1660 and loss: 0.17222285270690918\n",
      "'Epoch: 1670 and loss: 0.17236335575580597\n",
      "'Epoch: 1680 and loss: 0.1723683774471283\n",
      "'Epoch: 1690 and loss: 0.1722380369901657\n",
      "'Epoch: 1700 and loss: 0.17229825258255005\n",
      "'Epoch: 1710 and loss: 0.1723640263080597\n",
      "'Epoch: 1720 and loss: 0.17242632806301117\n",
      "'Epoch: 1730 and loss: 0.17202451825141907\n",
      "'Epoch: 1740 and loss: 0.17249548435211182\n",
      "'Epoch: 1750 and loss: 0.17237800359725952\n",
      "'Epoch: 1760 and loss: 0.17272333800792694\n",
      "'Epoch: 1770 and loss: 0.17198345065116882\n",
      "'Epoch: 1780 and loss: 0.17261147499084473\n",
      "'Epoch: 1790 and loss: 0.17193469405174255\n",
      "'Epoch: 1800 and loss: 0.17341244220733643\n",
      "'Epoch: 1810 and loss: 0.1722649782896042\n",
      "'Epoch: 1820 and loss: 0.1719648241996765\n",
      "'Epoch: 1830 and loss: 0.17248420417308807\n",
      "'Epoch: 1840 and loss: 0.17192071676254272\n",
      "'Epoch: 1850 and loss: 0.1730096936225891\n",
      "'Epoch: 1860 and loss: 0.17191211879253387\n",
      "'Epoch: 1870 and loss: 0.17241156101226807\n",
      "'Epoch: 1880 and loss: 0.17196254432201385\n",
      "'Epoch: 1890 and loss: 0.17278768122196198\n"
     ]
    }
   ],
   "source": [
    "#Train our model\n",
    "#Epoch:> one run through all the training data in network\n",
    "epochs = 1900\n",
    "losses = []\n",
    "for i in range(epochs):\n",
    "\n",
    "    #Go through and make a prediction\n",
    "    y_pred = model.forward(x_train) #Getting the predicted results\n",
    "\n",
    "    #Measuring the loss which will be high at first\n",
    "    loss = criterion(y_pred,y_train) #Predicted values vs y_train\n",
    "    losses.append(loss.detach().numpy())\n",
    "\n",
    "    #Print every 10 epoch\n",
    "    if i % 10 == 0:\n",
    "        print(f\"'Epoch: {i} and loss: {loss}\")\n",
    "    #Do back propqgation:> take the error rate of forward propagation and feed it back though the network to fine tune weights\n",
    "    optimizer.zero_grad()\n",
    "    loss.backward()\n",
    "    optimizer.step()\n",
    "    "
   ]
  },
  {
   "cell_type": "code",
   "execution_count": 9,
   "metadata": {},
   "outputs": [
    {
     "data": {
      "text/plain": [
       "Text(0.5, 0, 'epoch')"
      ]
     },
     "execution_count": 9,
     "metadata": {},
     "output_type": "execute_result"
    },
    {
     "data": {
      "image/png": "[encoded data removed]",
      "text/plain": [
       "<Figure size 640x480 with 1 Axes>"
      ]
     },
     "metadata": {},
     "output_type": "display_data"
    }
   ],
   "source": [
    "plt.plot(range(epochs),losses)\n",
    "plt.ylabel(\"loss/error\")\n",
    "plt.xlabel(\"epoch\")"
   ]
  },
  {
   "cell_type": "code",
   "execution_count": 10,
   "metadata": {},
   "outputs": [],
   "source": [
    "#Evaluate model on test dataset(test validation)\n",
    "with torch.no_grad(): #Basically turn off back propogation\n",
    "    y_eval = model.forward(x_test) #x_test are features form test set and, y_eval will be our predictions\n",
    "    loss = criterion(y_eval,y_test) #Find the loss or error"
   ]
  },
  {
   "cell_type": "code",
   "execution_count": 11,
   "metadata": {},
   "outputs": [
    {
     "data": {
      "text/plain": [
       "tensor(0.2255)"
      ]
     },
     "execution_count": 11,
     "metadata": {},
     "output_type": "execute_result"
    }
   ],
   "source": [
    "loss"
   ]
  },
  {
   "cell_type": "code",
   "execution_count": 12,
   "metadata": {},
   "outputs": [
    {
     "data": {
      "image/png": "[encoded data removed]",
      "text/plain": [
       "<Figure size 1000x800 with 2 Axes>"
      ]
     },
     "metadata": {},
     "output_type": "display_data"
    }
   ],
   "source": [
    "#This will tell us the nomber of correct predictions for test set.\n",
    "True_One = 0\n",
    "False_True = 0\n",
    "False_Zero = 0\n",
    "True_False = 0\n",
    "\n",
    "with torch.no_grad():\n",
    "    y_pred = model(x_test)\n",
    "    predicted_classes = y_pred.argmax(dim=1)\n",
    "    cm = confusion_matrix(y_test, predicted_classes)\n",
    "        #print(f'{i+1}.)   {str(y_val)} \\t {y_test[i]} \\t {y_val.argmax().item()}')\n",
    "\n",
    "    #    if predicted_class == 1 and  true_class == 1:\n",
    "           # True_One += 1\n",
    "\n",
    "     #   elif predicted_class == 0 and true_class == 0:\n",
    "          #  False_Zero += 1\n",
    "\n",
    "      #  elif predicted_class ==1 and true_class == 0:\n",
    "         #   False_True += 1\n",
    "\n",
    "       # else:\n",
    "        #    True_False += 1\n",
    "'''        precision = True_One / (True_One + False_True)\n",
    "        recall = True_One / (True_One + True_False)\n",
    "        F1_score = (2 * precision * recall) / (precision + recall)\n",
    "        \n",
    "print(f'True:> {True_One}')\n",
    "print(f'False:> {False_Zero}')\n",
    "print(f'False_Pos:> {False_True}')\n",
    "print(f'False_Neg:> {True_False}')\n",
    "print(f'Precision:> {precision}')\n",
    "print(f'Recall:> {recall}')\n",
    "print(f'F1-score:> {F1_score}')'''\n",
    "plt.figure(figsize=(10, 8))\n",
    "sns.heatmap(cm, annot=True, fmt='d', cmap='Blues')\n",
    "plt.xlabel('Predicted')\n",
    "plt.ylabel('Actual')\n",
    "plt.title('Confusion Matrix')\n",
    "plt.show()\n"
   ]
  },
  {
   "cell_type": "code",
   "execution_count": 128,
   "metadata": {},
   "outputs": [
    {
     "data": {
      "image/png": "[encoded data removed]",
      "text/plain": [
       "<Figure size 800x600 with 2 Axes>"
      ]
     },
     "metadata": {},
     "output_type": "display_data"
    }
   ],
   "source": [
    "import torch\n",
    "from torch.nn import Module\n",
    "import torch.nn as nn\n",
    "import numpy as np\n",
    "import pandas as pd\n",
    "import torch.nn.functional as F\n",
    "import matplotlib.pyplot as plt\n",
    "from sklearn.model_selection import train_test_split\n",
    "from sklearn.metrics import classification_report\n",
    "from sklearn.metrics import classification_report, confusion_matrix\n",
    "import seaborn as sns\n",
    "from sklearn.metrics import confusion_matrix\n",
    "# ... (rest of your code)\n",
    "\n",
    "# ... (your model training and evaluation code)\n",
    "\n",
    "# Calculate the confusion matrix\n",
    "with torch.no_grad():\n",
    "    y_pred = model(x_test)\n",
    "    predicted_classes = y_pred.argmax(dim=1)\n",
    "    cm = confusion_matrix(y_test, predicted_classes)\n",
    "\n",
    "# Visualize the confusion matrix\n",
    "plt.figure(figsize=(8, 6))\n",
    "sns.heatmap(cm, annot=True, fmt='d', cmap='Blues')\n",
    "plt.xlabel('Predicted')\n",
    "plt.ylabel('Actual')\n",
    "plt.title('Confusion Matrix')\n",
    "plt.show()"
   ]
  },
  {
   "cell_type": "code",
   "execution_count": 14,
   "metadata": {},
   "outputs": [
    {
     "name": "stderr",
     "output_type": "stream",
     "text": [
      "/tmp/ipykernel_8002/1781538827.py:5: FutureWarning: You are using `torch.load` with `weights_only=False` (the current default value), which uses the default pickle module implicitly. It is possible to construct malicious pickle data which will execute arbitrary code during unpickling (See https://github.com/pytorch/pytorch/blob/main/SECURITY.md#untrusted-models for more details). In a future release, the default value for `weights_only` will be flipped to `True`. This limits the functions that could be executed during unpickling. Arbitrary objects will no longer be allowed to be loaded via this mode unless they are explicitly allowlisted by the user via `torch.serialization.add_safe_globals`. We recommend you start setting `weights_only=True` for any use case where you don't have full control of the loaded file. Please open an issue on GitHub for any issues related to this experimental feature.\n",
      "  model.load_state_dict(torch.load('/home/ali/Transfered/New folder/E/python pro/Training dataset.path'))\n"
     ]
    },
    {
     "data": {
      "text/plain": [
       "<All keys matched successfully>"
      ]
     },
     "execution_count": 14,
     "metadata": {},
     "output_type": "execute_result"
    }
   ],
   "source": [
    "# Save\n",
    "torch.save(model.state_dict(), '/home/ali/Transfered/New folder/E/python pro/Training dataset.path')\n",
    "\n",
    "# Load\n",
    "model.load_state_dict(torch.load('/home/ali/Transfered/New folder/E/python pro/Training dataset.path'))"
   ]
  },
  {
   "cell_type": "code",
   "execution_count": 129,
   "metadata": {},
   "outputs": [
    {
     "data": {
      "text/plain": [
       "'\\nrl = 0.001 , epoch = 1000 , 6 Features\\nrue:> 735\\nFalse:> 132\\nFalse_True:> 140\\nTrue_False:> 115\\n-------------------------\\nrl = 0.001 , epoch = 200\\nTrue:> 787\\nFalse:> 19\\nFalse_True:> 263\\nTrue_False:> 51\\n--------------------------\\nrl = 0.0001 , epoch = 200\\nTrue:> 798  \\nFalse:> 18\\nFalse_True:> 264\\nTrue_False:> 40\\n--------------------------\\nrl = 0.00001 , epoch = 200\\nTrue:> 799\\nFalse:> 18\\nFalse_True:> 264\\nFalse_False:> 39\\n--------------------------\\nrl = 0.00001 , epoch = 500\\nTrue:> 809\\nFalse:> 16\\nFalse_True:> 266\\nTrue_False:> 29\\n--------------------------\\nrl = 0.00001 , epoch = 1000\\nTrue:> 636     #######pre = 78% & rec = 76%######\\nFalse:> 104\\nFalse_True:> 178\\nTrue_False:> 202\\n--------------------------\\nrl = 0.0001 , epoch = 1000\\nTrue:> 816\\nFalse:> 24\\nFalse_True:> 258\\nTrue_False:> 22\\n-------------------------\\nrl = 0.001 , epoch = 1000\\nTrue:> 729    #######pre = 80% & rec = 86%#######\\nFalse:> 109\\nFalse_True:> 173\\nTrue_False:> 109\\n-------------------------\\nrl = 0.001 , epoch = 1000 , seed = 10\\nTrue:> 754\\nFalse:> 80\\nFalse_True:> 202\\nTrue_False:> 84\\n------------------------\\nrl = 0.0001 , epoch = 1000\\nTrue:> 773\\nFalse:> 22\\nFalse_True:> 260\\nTrue_False:> 65\\n'"
      ]
     },
     "execution_count": 129,
     "metadata": {},
     "output_type": "execute_result"
    }
   ],
   "source": [
    "'''\n",
    "rl = 0.001 , epoch = 1000 , 6 Features\n",
    "rue:> 735\n",
    "False:> 132\n",
    "False_True:> 140\n",
    "True_False:> 115\n",
    "-------------------------\n",
    "rl = 0.001 , epoch = 200\n",
    "True:> 787\n",
    "False:> 19\n",
    "False_True:> 263\n",
    "True_False:> 51\n",
    "--------------------------\n",
    "rl = 0.0001 , epoch = 200\n",
    "True:> 798  \n",
    "False:> 18\n",
    "False_True:> 264\n",
    "True_False:> 40\n",
    "--------------------------\n",
    "rl = 0.00001 , epoch = 200\n",
    "True:> 799\n",
    "False:> 18\n",
    "False_True:> 264\n",
    "False_False:> 39\n",
    "--------------------------\n",
    "rl = 0.00001 , epoch = 500\n",
    "True:> 809\n",
    "False:> 16\n",
    "False_True:> 266\n",
    "True_False:> 29\n",
    "--------------------------\n",
    "rl = 0.00001 , epoch = 1000\n",
    "True:> 636     #######pre = 78% & rec = 76%######\n",
    "False:> 104\n",
    "False_True:> 178\n",
    "True_False:> 202\n",
    "--------------------------\n",
    "rl = 0.0001 , epoch = 1000\n",
    "True:> 816\n",
    "False:> 24\n",
    "False_True:> 258\n",
    "True_False:> 22\n",
    "-------------------------\n",
    "rl = 0.001 , epoch = 1000\n",
    "True:> 729    #######pre = 80% & rec = 86%#######\n",
    "False:> 109\n",
    "False_True:> 173\n",
    "True_False:> 109\n",
    "-------------------------\n",
    "rl = 0.001 , epoch = 1000 , seed = 10\n",
    "True:> 754\n",
    "False:> 80\n",
    "False_True:> 202\n",
    "True_False:> 84\n",
    "------------------------\n",
    "rl = 0.0001 , epoch = 1000\n",
    "True:> 773\n",
    "False:> 22\n",
    "False_True:> 260\n",
    "True_False:> 65\n",
    "'''"
   ]
  },
  {
   "cell_type": "code",
   "execution_count": 130,
   "metadata": {},
   "outputs": [
    {
     "data": {
      "text/plain": [
       "'\\nnorm = min-max normalization(feature scaling)--epochs = 1000--lr=0.001\\nTrue:> 779\\nFalse:> 245\\nFalse_True:> 38\\nTrue_False:> 60     precision = 95% ---- recall = 92% ---- total false = 283 --- total ture = 839 (Test set)\\n------------------------------------------------------------------------------\\n\\n\\n'"
      ]
     },
     "execution_count": 130,
     "metadata": {},
     "output_type": "execute_result"
    }
   ],
   "source": [
    "'''\n",
    "norm = min-max normalization(feature scaling)--epochs = 1000--lr=0.001\n",
    "True:> 779\n",
    "False:> 245\n",
    "False_True:> 38\n",
    "True_False:> 60     precision = 95% ---- recall = 92% ---- total false = 283 --- total ture = 839 (Test set)\n",
    "------------------------------------------------------------------------------\n",
    "\n",
    "\n",
    "'''"
   ]
  },
  {
   "cell_type": "code",
   "execution_count": null,
   "metadata": {},
   "outputs": [],
   "source": [
    "\"\"\"obstacle_avoidance controller.\"\"\"\n",
    "\n",
    "\n",
    "from controller import Robot\n",
    "\n",
    "\n",
    "# get the time step of the current world.\n",
    "TIMESTEP = 32\n",
    "MAX_SPEED = 6.28\n",
    "\n",
    "\n",
    "def run_robot(robot):\n",
    "\n",
    "    # Motor instance to drive robot\n",
    "    left_motor = robot.getDevice('left wheel motor')\n",
    "    right_motor = robot.getDevice('right wheel motor')\n",
    "    \n",
    "    left_motor.setPosition(float('inf'))\n",
    "    right_motor.setPosition(float('inf'))\n",
    "    \n",
    "    left_motor.setVelocity(0.0)\n",
    "    right_motor.setVelocity(0.0)\n",
    "    \n",
    "    # IR sensors to detect obstalces\n",
    "    list_ps = []\n",
    "    for ind in [0, 1, 2, 5, 6, 7]:\n",
    "        sensor_name = 'ps' + str(ind)\n",
    "        list_ps.append(robot.getDevice(sensor_name))\n",
    "        list_ps[-1].enable(TIMESTEP)\n",
    "    \n",
    "    # Main loop:\n",
    "    # - perform simulation steps until Webots is stopping the controller\n",
    "    while robot.step(TIMESTEP) != -1:\n",
    "    \n",
    "        left_speed = MAX_SPEED\n",
    "        right_speed = MAX_SPEED\n",
    "        \n",
    "        # Read the sensors:\n",
    "        for ps in list_ps:\n",
    "            ps_val = ps.getValue()\n",
    "            \n",
    "            # Process sensor data here.\n",
    "            if ps_val > 100:\n",
    "                # turn\n",
    "                left_speed = -MAX_SPEED\n",
    "   \n",
    "        # Drive robot\n",
    "        left_motor.setVelocity(left_speed)\n",
    "        right_motor.setVelocity(right_speed)\n",
    "\n",
    "\n",
    "if __name__ == \"__main__\":\n",
    "    # create the Robot instance.\n",
    "    my_robot = Robot()\n",
    "    run_robot(my_robot)"
   ]
  },
  {
   "cell_type": "code",
   "execution_count": null,
   "metadata": {},
   "outputs": [],
   "source": []
  },
  {
   "cell_type": "code",
   "execution_count": 1,
   "metadata": {},
   "outputs": [
    {
     "name": "stdout",
     "output_type": "stream",
     "text": [
      "Using device: cuda\n",
      "Starting matrix multiplication...\n",
      "Matrix multiplication completed in 0.02 seconds.\n"
     ]
    }
   ],
   "source": [
    "import torch\n",
    "import time\n",
    "\n",
    "# Check if GPU is available\n",
    "device = torch.device(\"cuda\" if torch.cuda.is_available() else \"cpu\")\n",
    "print(f\"Using device: {device}\")\n",
    "\n",
    "# Define the size of the matrices\n",
    "matrix_size = 10000\n",
    "\n",
    "# Generate large random matrices\n",
    "matrix_a = torch.randn(matrix_size, matrix_size, device=device)\n",
    "matrix_b = torch.randn(matrix_size, matrix_size, device=device)\n",
    "\n",
    "# Perform matrix multiplication on the GPU\n",
    "print(\"Starting matrix multiplication...\")\n",
    "start_time = time.time()\n",
    "result = torch.mm(matrix_a, matrix_b)\n",
    "end_time = time.time()\n",
    "\n",
    "# Print the result and computation time\n",
    "print(f\"Matrix multiplication completed in {end_time - start_time:.2f} seconds.\")\n",
    "\n",
    "# Optional: Move the result back to CPU (if needed)\n",
    "result_cpu = result.cpu()\n"
   ]
  },
  {
   "cell_type": "code",
   "execution_count": 1,
   "metadata": {},
   "outputs": [
    {
     "name": "stderr",
     "output_type": "stream",
     "text": [
      "/tmp/ipykernel_33127/859847700.py:16: MatplotlibDeprecationWarning: The 'use_line_collection' parameter of stem() was deprecated in Matplotlib 3.6 and will be removed two minor releases later. If any parameter follows 'use_line_collection', they should be passed as keyword, not positionally.\n",
      "  plt.stem(n1, x1, use_line_collection=True)\n",
      "/tmp/ipykernel_33127/859847700.py:23: MatplotlibDeprecationWarning: The 'use_line_collection' parameter of stem() was deprecated in Matplotlib 3.6 and will be removed two minor releases later. If any parameter follows 'use_line_collection', they should be passed as keyword, not positionally.\n",
      "  plt.stem(n2, x2, use_line_collection=True)\n"
     ]
    },
    {
     "data": {
      "image/png": "[encoded data removed]",
      "text/plain": [
       "<Figure size 1200x500 with 2 Axes>"
      ]
     },
     "metadata": {},
     "output_type": "display_data"
    }
   ],
   "source": [
    "import numpy as np\n",
    "import matplotlib.pyplot as plt\n",
    "\n",
    "# زمان‌های نمونه‌برداری\n",
    "n1 = np.arange(0, 20, 1)\n",
    "x1 = 1 + 2 * np.cos((5 * np.pi * n1) / 4)\n",
    "\n",
    "n2 = np.arange(0, 20, 1)\n",
    "x2 = 1 + 2 * np.cos((np.pi * n2) / 2)\n",
    "\n",
    "# رسم نمودار\n",
    "plt.figure(figsize=(12, 5))\n",
    "\n",
    "# حالت 1 (T_s = 1/40)\n",
    "plt.subplot(1, 2, 1)\n",
    "plt.stem(n1, x1, use_line_collection=True)\n",
    "plt.title('Sampling with T_s = 1/40 (Aliasing)')\n",
    "plt.xlabel('n')\n",
    "plt.ylabel('x[n]')\n",
    "\n",
    "# حالت 2 (T_s = 1/100)\n",
    "plt.subplot(1, 2, 2)\n",
    "plt.stem(n2, x2, use_line_collection=True)\n",
    "plt.title('Sampling with T_s = 1/100 (Correct Sampling)')\n",
    "plt.xlabel('n')\n",
    "plt.ylabel('x[n]')\n",
    "\n",
    "plt.tight_layout()\n",
    "plt.show()"
   ]
  },
  {
   "cell_type": "code",
   "execution_count": null,
   "metadata": {},
   "outputs": [
    {
     "name": "stdout",
     "output_type": "stream",
     "text": [
      "Solution: {x: 2/7, y: 15/7}\n"
     ]
    }
   ],
   "source": []
  },
  {
   "cell_type": "code",
   "execution_count": null,
   "metadata": {},
   "outputs": [],
   "source": []
  },
  {
   "cell_type": "code",
   "execution_count": null,
   "metadata": {},
   "outputs": [],
   "source": [
    "from docx import Document\n",
    "\n",
    "# ایجاد سند ورد\n",
    "doc = Document()\n",
    "doc.add_heading(\"معادلات ریاضی تشکیل آرایش در پرواز گروهی کوآدکوپترها\", level=1)\n",
    "\n",
    "# محتوای معادلات\n",
    "content = \"\"\"\n",
    "### 1. مدل سینماتیکی برای کوآدکوپترها:\n",
    "\n",
    "\\\\[\n",
    "\\\\dot{x}_i = v_i \\\\cos(\\\\theta_i), \\\\quad \\\\dot{y}_i = v_i \\\\sin(\\\\theta_i), \\\\quad \\\\dot{\\\\theta}_i = \\\\omega_i\n",
    "\\\\]\n",
    "\n",
    "- \\\\(x_i, y_i\\\\): مختصات موقعیت کوآدکوپتر \\\\(i\\\\)-ام در صفحه دوبعدی.\n",
    "- \\\\(\\\\theta_i\\\\): زاویه جهت‌گیری کوآدکوپتر \\\\(i\\\\).\n",
    "- \\\\(v_i\\\\): سرعت خطی کوآدکوپتر \\\\(i\\\\).\n",
    "- \\\\(\\\\omega_i\\\\): سرعت زاویه‌ای کوآدکوپتر \\\\(i\\\\).\n",
    "\n",
    "### 2. کنترل تشکیل آرایش (لیدر-فالوئر):\n",
    "\n",
    "\\\\[\n",
    "\\\\dot{x}_i = k_p (x_L - x_i) + v_i \\\\cos(\\\\theta_i), \\\\quad \\\\dot{y}_i = k_p (y_L - y_i) + v_i \\\\sin(\\\\theta_i)\n",
    "\\\\]\n",
    "\n",
    "- \\\\(x_L, y_L\\\\): مختصات رهبر.\n",
    "- \\\\(k_p\\\\): ضریب کنترل موقعیت پیرو به رهبر.\n",
    "\n",
    "### 3. کنترل ساختار مجازی:\n",
    "\n",
    "\\\\[\n",
    "x_i = x_c + d_i \\\\cos(\\\\phi_i), \\\\quad y_i = y_c + d_i \\\\sin(\\\\phi_i)\n",
    "\\\\]\n",
    "\n",
    "- \\\\(x_c, y_c\\\\): مرکز ساختار مجازی.\n",
    "- \\\\(d_i\\\\): فاصله کوآدکوپتر \\\\(i\\\\) از مرکز.\n",
    "- \\\\(\\\\phi_i\\\\): زاویه نسبی کوآدکوپتر \\\\(i\\\\).\n",
    "\n",
    "### 4. معادلات اجتناب از برخورد:\n",
    "\n",
    "\\\\[\n",
    "U_i = \\\\sum_{j \\\\neq i} \\\\frac{1}{\\\\| p_i - p_j \\\\|^2}\n",
    "\\\\]\n",
    "\n",
    "\\\\[\n",
    "F_i = -\\\\nabla U_i = -\\\\sum_{j \\\\neq i} \\\\frac{p_i - p_j}{\\\\| p_i - p_j \\\\|^3}\n",
    "\\\\]\n",
    "\n",
    "- \\\\(p_i = [x_i, y_i]^T\\\\): موقعیت کوآدکوپتر \\\\(i\\\\).\n",
    "- \\\\(\\\\| p_i - p_j \\\\|\\\\): فاصله اقلیدسی بین \\\\(i\\\\) و \\\\(j\\\\).\n",
    "\n",
    "### 5. کنترل اجماع برای همگام‌سازی سرعت‌ها:\n",
    "\n",
    "\\\\[\n",
    "\\\\dot{v}_i = \\\\sum_{j \\\\in N_i} k_c (v_j - v_i)\n",
    "\\\\]\n",
    "\n",
    "- \\\\(N_i\\\\): همسایگان کوآدکوپتر \\\\(i\\\\).\n",
    "- \\\\(k_c\\\\): ضریب کنترل اجماع.\n",
    "\n",
    "### 6. ترکیب معادلات برای کنترل گروهی:\n",
    "\n",
    "\\\\[\n",
    "\\\\begin{aligned}\n",
    "&\\\\dot{x}_i = v_i \\\\cos(\\\\theta_i) + F_{ix}, \\\\\\\\\n",
    "&\\\\dot{y}_i = v_i \\\\sin(\\\\theta_i) + F_{iy}, \\\\\\\\\n",
    "&\\\\dot{v}_i = \\\\sum_{j \\\\in N_i} k_c (v_j - v_i), \\\\\\\\\n",
    "&\\\\dot{\\\\theta}_i = \\\\omega_i.\n",
    "\\\\end{aligned}\n",
    "\\\\]\n",
    "\"\"\"\n",
    "\n",
    "# افزودن محتوای معادلات به سند\n",
    "doc.add_paragraph(content)\n",
    "\n",
    "# ذخیره فایل\n",
    "file_name = \"formation_equations.docx\"\n",
    "doc.save(file_name)\n",
    "print(f\"فایل با موفقیت ایجاد شد: {file_name}\")\n"
   ]
  }
 ],
 "metadata": {
  "kernelspec": {
   "display_name": "Python 3",
   "language": "python",
   "name": "python3"
  },
  "language_info": {
   "codemirror_mode": {
    "name": "ipython",
    "version": 3
   },
   "file_extension": ".py",
   "mimetype": "text/x-python",
   "name": "python",
   "nbconvert_exporter": "python",
   "pygments_lexer": "ipython3",
   "version": "3.12.3"
  }
 },
 "nbformat": 4,
 "nbformat_minor": 2
}
